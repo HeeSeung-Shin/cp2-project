{
  "nbformat": 4,
  "nbformat_minor": 0,
  "metadata": {
    "colab": {
      "provenance": []
    },
    "kernelspec": {
      "name": "python3",
      "display_name": "Python 3"
    },
    "language_info": {
      "name": "python"
    },
    "gpuClass": "standard"
  },
  "cells": [
    {
      "cell_type": "code",
      "execution_count": null,
      "metadata": {
        "colab": {
          "base_uri": "https://localhost:8080/"
        },
        "id": "Y-RHoi1hvPJw",
        "outputId": "d716fd73-c56e-469a-c889-9e8b3572e556"
      },
      "outputs": [
        {
          "output_type": "stream",
          "name": "stdout",
          "text": [
            "Mounted at /content/drive\n"
          ]
        }
      ],
      "source": [
        "from google.colab import drive\n",
        "drive.mount('/content/drive')"
      ]
    },
    {
      "cell_type": "code",
      "source": [
        "!sudo apt-get install -y fonts-nanum\n",
        "!sudo fc-cache -fv\n",
        "!rm ~/.cache/matplotlib -rf"
      ],
      "metadata": {
        "id": "NZi60w3r3_0f",
        "outputId": "0d32aea0-bc81-43e0-e102-862f0bc313b7",
        "colab": {
          "base_uri": "https://localhost:8080/"
        }
      },
      "execution_count": null,
      "outputs": [
        {
          "output_type": "stream",
          "name": "stdout",
          "text": [
            "Reading package lists... Done\n",
            "Building dependency tree       \n",
            "Reading state information... Done\n",
            "fonts-nanum is already the newest version (20180306-3).\n",
            "0 upgraded, 0 newly installed, 0 to remove and 27 not upgraded.\n",
            "/usr/share/fonts: caching, new cache contents: 0 fonts, 1 dirs\n",
            "/usr/share/fonts/truetype: caching, new cache contents: 0 fonts, 3 dirs\n",
            "/usr/share/fonts/truetype/humor-sans: caching, new cache contents: 1 fonts, 0 dirs\n",
            "/usr/share/fonts/truetype/liberation: caching, new cache contents: 16 fonts, 0 dirs\n",
            "/usr/share/fonts/truetype/nanum: caching, new cache contents: 10 fonts, 0 dirs\n",
            "/usr/local/share/fonts: caching, new cache contents: 0 fonts, 0 dirs\n",
            "/root/.local/share/fonts: skipping, no such directory\n",
            "/root/.fonts: skipping, no such directory\n",
            "/usr/share/fonts/truetype: skipping, looped directory detected\n",
            "/usr/share/fonts/truetype/humor-sans: skipping, looped directory detected\n",
            "/usr/share/fonts/truetype/liberation: skipping, looped directory detected\n",
            "/usr/share/fonts/truetype/nanum: skipping, looped directory detected\n",
            "/var/cache/fontconfig: cleaning cache directory\n",
            "/root/.cache/fontconfig: not cleaning non-existent cache directory\n",
            "/root/.fontconfig: not cleaning non-existent cache directory\n",
            "fc-cache: succeeded\n"
          ]
        }
      ]
    },
    {
      "cell_type": "code",
      "source": [
        "from matplotlib import font_manager\n",
        "for font in font_manager.fontManager.ttflist:\n",
        "    if 'Nanum' in font.name:\n",
        "        print(font.name, font.fname)"
      ],
      "metadata": {
        "id": "RjSJTFpN4Bxh",
        "outputId": "fad34a60-6458-4187-cbd3-732dd2a169e8",
        "colab": {
          "base_uri": "https://localhost:8080/"
        }
      },
      "execution_count": null,
      "outputs": [
        {
          "output_type": "stream",
          "name": "stdout",
          "text": [
            "NanumMyeongjo /usr/share/fonts/truetype/nanum/NanumMyeongjo.ttf\n",
            "NanumBarunGothic /usr/share/fonts/truetype/nanum/NanumBarunGothic.ttf\n",
            "NanumSquareRound /usr/share/fonts/truetype/nanum/NanumSquareRoundB.ttf\n",
            "NanumSquare /usr/share/fonts/truetype/nanum/NanumSquareR.ttf\n",
            "NanumGothic /usr/share/fonts/truetype/nanum/NanumGothicBold.ttf\n",
            "NanumBarunGothic /usr/share/fonts/truetype/nanum/NanumBarunGothicBold.ttf\n",
            "NanumMyeongjo /usr/share/fonts/truetype/nanum/NanumMyeongjoBold.ttf\n",
            "NanumGothic /usr/share/fonts/truetype/nanum/NanumGothic.ttf\n",
            "NanumSquare /usr/share/fonts/truetype/nanum/NanumSquareB.ttf\n",
            "NanumSquareRound /usr/share/fonts/truetype/nanum/NanumSquareRoundR.ttf\n"
          ]
        }
      ]
    },
    {
      "cell_type": "code",
      "source": [
        "import matplotlib.pyplot as plt\n",
        "\n",
        "plt.rc('font', family='NanumBarunGothic') \n",
        "plt.rcParams['axes.unicode_minus'] = False"
      ],
      "metadata": {
        "id": "WwhKpk-p4Nyg"
      },
      "execution_count": null,
      "outputs": []
    },
    {
      "cell_type": "markdown",
      "source": [
        "# 이미지 cropping"
      ],
      "metadata": {
        "id": "JfnGB28fTQ2_"
      }
    },
    {
      "cell_type": "code",
      "source": [
        "import glob\n",
        "import pandas as pd\n",
        "import cv2\n",
        "import json\n",
        "import unicodedata"
      ],
      "metadata": {
        "id": "3zdYmTRYTgYz"
      },
      "execution_count": null,
      "outputs": []
    },
    {
      "cell_type": "code",
      "source": [
        "order = 0\n",
        "num = 0\n",
        "# gb = glob.glob('/content/drive/MyDrive/공유폴더/091.차량 외관 영상 데이터/01.데이터/2.Validation/라벨링데이터/*/*/*/*.json')\n",
        "df = pd.DataFrame(columns = ['size', 'brand', 'model', 'year','angle','file_path','origin_path'])\n",
        "\n",
        "for js in gb:\n",
        "    \n",
        "    리어램프 = 0\n",
        "    헤드램프 = 0\n",
        "    차량전체 = False\n",
        "\n",
        "    with open(js, 'r') as f:\n",
        "        \n",
        "        json_data = json.load(f)\n",
        "        data_dict = json.dumps(json_data)\n",
        "        data_dict = json.loads(data_dict)\n",
        "    for obj in data_dict['learningDataInfo']['objects']:\n",
        "        \n",
        "        if obj['classId'] == 'P11.리어램프':\n",
        "            리어램프 += 1\n",
        "\n",
        "        if obj['classId'] == 'P10.헤드램프':\n",
        "            헤드램프 += 1\n",
        "\n",
        "        if obj['classId'] == 'P00.차량전체':\n",
        "            차량전체 = True\n",
        "            \n",
        "            origin_img = js.replace('라벨링데이터','원천데이터').replace('json', 'jpg')\n",
        "            img = cv2.imread(origin_img)\n",
        "            L = int(obj['left'])\n",
        "            T = int(obj['top'])\n",
        "            W = int(obj['width'])\n",
        "            H = int(obj['height'])\n",
        "            cropped_img = img[T: T+H, L:L+W]\n",
        "            model_name = origin_img[origin_img.find('원천데이터')+15:origin_img.rfind('/')] + str(num)\n",
        "            model_name = unicodedata.normalize('NFKC', model_name)\n",
        "            model_name = model_name.replace('/','_')\n",
        "            df.loc[num,'origin_path'] = origin_img\n",
        "            info = data_dict['rawDataInfo']\n",
        "            df.loc[num,'size'] = info['LargeCategoryId']\n",
        "            df.loc[num,'brand'] = info['MediumCategoryId']\n",
        "            df.loc[num,'model'] = info['SmallCategoryId']\n",
        "            df.loc[num,'year'] = info['yearId']\n",
        "        \n",
        "        if (리어램프 == 2) and 차량전체:\n",
        "            file_path = './후면/' + model_name + '.jpg'\n",
        "            df.loc[num,'file_path'] = file_path\n",
        "            cv2.imwrite(file_path, cropped_img)\n",
        "            df.loc[num,'angle'] = '후면'\n",
        "            num +=1\n",
        "            break\n",
        "        \n",
        "        elif (헤드램프 == 2) and 차량전체:\n",
        "            file_path = './정면/' + model_name + '.jpg'\n",
        "            df.loc[num,'file_path'] = file_path\n",
        "            cv2.imwrite(file_path, cropped_img)\n",
        "            df.loc[num,'angle'] = '정면'\n",
        "            num +=1\n",
        "            break\n",
        "    \n",
        "    if 차량전체:\n",
        "        if df['angle'].isnull().any():\n",
        "            file_path = './측면/' + model_name + '.jpg'\n",
        "            df.loc[num,'file_path'] = file_path\n",
        "            cv2.imwrite(file_path, cropped_img)\n",
        "            df.loc[num,'angle'] = '측면'\n",
        "            num +=1\n",
        "\n",
        "    if order%50 ==0:        \n",
        "        print(order)\n",
        "    order+=1"
      ],
      "metadata": {
        "id": "ZG0LoUkWKgE7"
      },
      "execution_count": null,
      "outputs": []
    },
    {
      "cell_type": "code",
      "source": [
        "df.to_csv('angle_cropped_df.csv')"
      ],
      "metadata": {
        "id": "zWvkl7PYddGm"
      },
      "execution_count": null,
      "outputs": []
    }
  ]
}